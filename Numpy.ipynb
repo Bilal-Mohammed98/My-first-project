{
 "cells": [
  {
   "cell_type": "code",
   "execution_count": 1,
   "id": "3a6292e7-7441-47ae-b8af-7b5d6aa6b40b",
   "metadata": {},
   "outputs": [],
   "source": [
    "import numpy as np"
   ]
  },
  {
   "cell_type": "code",
   "execution_count": 3,
   "id": "43009352-2fef-41d1-b671-6c5e2b56e7bc",
   "metadata": {},
   "outputs": [
    {
     "name": "stdout",
     "output_type": "stream",
     "text": [
      "[[ 1  2  3  4  5  6  7]\n",
      " [ 8  9 10 11 12 13 14]]\n"
     ]
    }
   ],
   "source": [
    "a=np.array([[1,2,3,4,5,6,7],[8,9,10,11,12,13,14]])\n",
    "print(a)"
   ]
  },
  {
   "cell_type": "code",
   "execution_count": 21,
   "id": "cb501359-727f-46dc-ad2e-6b5a5d7a0b66",
   "metadata": {},
   "outputs": [
    {
     "data": {
      "text/plain": [
       "2"
      ]
     },
     "execution_count": 21,
     "metadata": {},
     "output_type": "execute_result"
    }
   ],
   "source": [
    "a.ndim"
   ]
  },
  {
   "cell_type": "code",
   "execution_count": 22,
   "id": "6669c8c7-5fab-4b03-83a8-593b8cd2723e",
   "metadata": {},
   "outputs": [
    {
     "data": {
      "text/plain": [
       "(2, 7)"
      ]
     },
     "execution_count": 22,
     "metadata": {},
     "output_type": "execute_result"
    }
   ],
   "source": [
    "a.shape"
   ]
  },
  {
   "cell_type": "code",
   "execution_count": 23,
   "id": "edd64afb-b045-4f14-9bf4-465b07813f4b",
   "metadata": {},
   "outputs": [
    {
     "data": {
      "text/plain": [
       "array([ 8,  9, 10, 11, 12, 13, 14])"
      ]
     },
     "execution_count": 23,
     "metadata": {},
     "output_type": "execute_result"
    }
   ],
   "source": [
    "#select a specific row and return all columns\n",
    "a[1, :]"
   ]
  },
  {
   "cell_type": "code",
   "execution_count": 25,
   "id": "5a25ac00-12f7-44eb-a1d7-9144b0479f97",
   "metadata": {},
   "outputs": [
    {
     "data": {
      "text/plain": [
       "array([ 4, 11])"
      ]
     },
     "execution_count": 25,
     "metadata": {},
     "output_type": "execute_result"
    }
   ],
   "source": [
    "#select a specific columns and return all rows\n",
    "a[:,3]"
   ]
  },
  {
   "cell_type": "code",
   "execution_count": 4,
   "id": "58a70327-26e8-4576-9f64-964a824a643f",
   "metadata": {},
   "outputs": [
    {
     "data": {
      "text/plain": [
       "dtype('int64')"
      ]
     },
     "execution_count": 4,
     "metadata": {},
     "output_type": "execute_result"
    }
   ],
   "source": [
    "a.dtype"
   ]
  },
  {
   "cell_type": "code",
   "execution_count": 14,
   "id": "7eb80935-71cc-443d-83da-283701cb449b",
   "metadata": {},
   "outputs": [
    {
     "data": {
      "text/plain": [
       "8"
      ]
     },
     "execution_count": 14,
     "metadata": {},
     "output_type": "execute_result"
    }
   ],
   "source": [
    "#number of individual bytes \n",
    "a.itemsize"
   ]
  },
  {
   "cell_type": "code",
   "execution_count": 15,
   "id": "b850a950-c994-4fd5-b496-89e26a439e20",
   "metadata": {},
   "outputs": [
    {
     "data": {
      "text/plain": [
       "112"
      ]
     },
     "execution_count": 15,
     "metadata": {},
     "output_type": "execute_result"
    }
   ],
   "source": [
    "#approach to get the total number of bytes\n",
    "a.nbytes"
   ]
  },
  {
   "cell_type": "code",
   "execution_count": 16,
   "id": "123779c3-b4e0-4003-844d-98d6645f4dd5",
   "metadata": {},
   "outputs": [
    {
     "data": {
      "text/plain": [
       "112"
      ]
     },
     "execution_count": 16,
     "metadata": {},
     "output_type": "execute_result"
    }
   ],
   "source": [
    "#another approach to get the total number of bytes\n",
    "a.size*a.itemsize"
   ]
  },
  {
   "cell_type": "code",
   "execution_count": 17,
   "id": "123d9243-a3b3-49f0-a7b7-153d7fc85827",
   "metadata": {},
   "outputs": [
    {
     "data": {
      "text/plain": [
       "14"
      ]
     },
     "execution_count": 17,
     "metadata": {},
     "output_type": "execute_result"
    }
   ],
   "source": [
    "a.size"
   ]
  },
  {
   "cell_type": "code",
   "execution_count": 20,
   "id": "7e3a1f11-e653-4e99-b005-6e47a03088d7",
   "metadata": {},
   "outputs": [
    {
     "data": {
      "text/plain": [
       "array([2, 4, 6])"
      ]
     },
     "execution_count": 20,
     "metadata": {},
     "output_type": "execute_result"
    }
   ],
   "source": [
    "a[0, 1:-1:2]"
   ]
  },
  {
   "cell_type": "code",
   "execution_count": 64,
   "id": "2b63471f-47b0-44f7-ae69-a8cc3cff97ed",
   "metadata": {},
   "outputs": [
    {
     "name": "stdout",
     "output_type": "stream",
     "text": [
      "[[[1 2]\n",
      "  [3 4]]\n",
      "\n",
      " [[5 6]\n",
      "  [7 8]]]\n"
     ]
    }
   ],
   "source": [
    "#3 dimentional\n",
    "b=np.array([[[1,2],[3,4]],[[5,6],[7,8]]])\n",
    "print(b)"
   ]
  },
  {
   "cell_type": "code",
   "execution_count": 65,
   "id": "9d3ccf93-6d99-4b7c-9479-1abbb84dded6",
   "metadata": {},
   "outputs": [
    {
     "data": {
      "text/plain": [
       "4"
      ]
     },
     "execution_count": 65,
     "metadata": {},
     "output_type": "execute_result"
    }
   ],
   "source": [
    "#Get specific elements,I want #4 of the first layer/set of elements\n",
    "b[0,1,1]"
   ]
  },
  {
   "cell_type": "code",
   "execution_count": 66,
   "id": "3f7f9351-8bf0-404d-984d-2eeddc0a3ae3",
   "metadata": {},
   "outputs": [
    {
     "name": "stdout",
     "output_type": "stream",
     "text": [
      "[[[1 2]\n",
      "  [3 4]]\n",
      "\n",
      " [[5 6]\n",
      "  [7 8]]]\n"
     ]
    }
   ],
   "source": [
    "b[0:,1,:1]\n",
    "print(b)"
   ]
  },
  {
   "cell_type": "code",
   "execution_count": 67,
   "id": "35e05093-270f-4092-846e-feb975610fd7",
   "metadata": {},
   "outputs": [
    {
     "name": "stdout",
     "output_type": "stream",
     "text": [
      "[[[ 1  2]\n",
      "  [ 3 10]]\n",
      "\n",
      " [[ 5  6]\n",
      "  [ 7 11]]]\n"
     ]
    }
   ],
   "source": [
    "#replace certain elements in 2nd row 2nd column in each layers\n",
    "b[:,1,1]=[10,11]\n",
    "print(b)"
   ]
  },
  {
   "cell_type": "code",
   "execution_count": 68,
   "id": "e273e6f6-7b52-4269-994f-6bed74ed27b7",
   "metadata": {},
   "outputs": [
    {
     "name": "stdout",
     "output_type": "stream",
     "text": [
      "[[[ 1  2]\n",
      "  [10 11]]\n",
      "\n",
      " [[ 5  6]\n",
      "  [12 13]]]\n"
     ]
    }
   ],
   "source": [
    "#replace all elements in 2nd row in each layers\n",
    "b[:,1,:]=[10,11],[12,13]\n",
    "print(b)"
   ]
  },
  {
   "cell_type": "code",
   "execution_count": 69,
   "id": "7ca26c6d-0ee7-410a-b650-b870b2761874",
   "metadata": {},
   "outputs": [
    {
     "data": {
      "text/plain": [
       "array([[[[0., 0.],\n",
       "         [0., 0.],\n",
       "         [0., 0.]],\n",
       "\n",
       "        [[0., 0.],\n",
       "         [0., 0.],\n",
       "         [0., 0.]],\n",
       "\n",
       "        [[0., 0.],\n",
       "         [0., 0.],\n",
       "         [0., 0.]]],\n",
       "\n",
       "\n",
       "       [[[0., 0.],\n",
       "         [0., 0.],\n",
       "         [0., 0.]],\n",
       "\n",
       "        [[0., 0.],\n",
       "         [0., 0.],\n",
       "         [0., 0.]],\n",
       "\n",
       "        [[0., 0.],\n",
       "         [0., 0.],\n",
       "         [0., 0.]]]])"
      ]
     },
     "execution_count": 69,
     "metadata": {},
     "output_type": "execute_result"
    }
   ],
   "source": [
    "np.zeros((2,3,3,2))"
   ]
  },
  {
   "cell_type": "code",
   "execution_count": 1,
   "id": "9905d73e-a9e9-4fca-bb48-074b706a286f",
   "metadata": {},
   "outputs": [
    {
     "name": "stdout",
     "output_type": "stream",
     "text": [
      "Original a:\n",
      " [[1 2]\n",
      " [3 4]]\n"
     ]
    }
   ],
   "source": [
    "import numpy as np\n",
    "\n",
    "a = np.array([[1, 2],\n",
    "              [3, 4]])\n",
    "print(\"Original a:\\n\", a)\n"
   ]
  },
  {
   "cell_type": "code",
   "execution_count": 2,
   "id": "b4dc42ac-3e56-4d02-b59a-39aa1ba48c8a",
   "metadata": {},
   "outputs": [
    {
     "name": "stdout",
     "output_type": "stream",
     "text": [
      "Flattened: [1 2 3 4]\n",
      "After modifying flat:\n",
      "flat: [99  2  3  4]\n",
      "a:\n",
      " [[1 2]\n",
      " [3 4]]\n"
     ]
    }
   ],
   "source": [
    "flat = a.flatten()\n",
    "print(\"Flattened:\", flat)\n",
    "\n",
    "flat[0] = 99   # change first element\n",
    "print(\"After modifying flat:\")\n",
    "print(\"flat:\", flat)\n",
    "print(\"a:\\n\", a)   # original stays same\n"
   ]
  },
  {
   "cell_type": "code",
   "execution_count": 3,
   "id": "ce473289-8f52-439c-b6cf-159af1f68516",
   "metadata": {},
   "outputs": [
    {
     "name": "stdout",
     "output_type": "stream",
     "text": [
      "Raveled: [1 2 3 4]\n",
      "After modifying r:\n",
      "r: [77  2  3  4]\n",
      "a:\n",
      " [[77  2]\n",
      " [ 3  4]]\n"
     ]
    }
   ],
   "source": [
    "r = a.ravel()\n",
    "print(\"Raveled:\", r)\n",
    "\n",
    "r[0] = 77   # change first element\n",
    "print(\"After modifying r:\")\n",
    "print(\"r:\", r)\n",
    "print(\"a:\\n\", a)   # original also changed!\n"
   ]
  },
  {
   "cell_type": "code",
   "execution_count": 4,
   "id": "162e7d2d-392b-4dbd-9c99-421b7b9442a2",
   "metadata": {},
   "outputs": [],
   "source": [
    "matrix=np.array([[1,2,3],[4,5,6],[7,8,9]])"
   ]
  },
  {
   "cell_type": "code",
   "execution_count": 7,
   "id": "654e4ef1-b680-42d3-9eea-b8f44748e872",
   "metadata": {},
   "outputs": [
    {
     "data": {
      "text/plain": [
       "array([[1, 2, 3],\n",
       "       [4, 5, 6],\n",
       "       [7, 8, 9]])"
      ]
     },
     "execution_count": 7,
     "metadata": {},
     "output_type": "execute_result"
    }
   ],
   "source": [
    "matrix"
   ]
  },
  {
   "cell_type": "code",
   "execution_count": 8,
   "id": "559111b0-2903-447a-bf44-592aa600d0d7",
   "metadata": {},
   "outputs": [
    {
     "name": "stdout",
     "output_type": "stream",
     "text": [
      "[[5 6]\n",
      " [8 9]]\n"
     ]
    }
   ],
   "source": [
    "print(matrix[1:,  1:])"
   ]
  },
  {
   "cell_type": "code",
   "execution_count": 10,
   "id": "0e4ef0a5-a113-4dac-b803-978f486d811e",
   "metadata": {},
   "outputs": [],
   "source": [
    "#3 Dimensional array with 3 layers\n",
    "z=np.array([[[1,2,3],[4,5,6]],[[7,8,9],[10,11,12]],[[13,14,15],[16,17,18]]])"
   ]
  },
  {
   "cell_type": "code",
   "execution_count": 11,
   "id": "b7588e7b-ddaa-4260-ab41-5effb666273a",
   "metadata": {},
   "outputs": [
    {
     "name": "stdout",
     "output_type": "stream",
     "text": [
      "[[[ 1  2  3]\n",
      "  [ 4  5  6]]\n",
      "\n",
      " [[ 7  8  9]\n",
      "  [10 11 12]]\n",
      "\n",
      " [[13 14 15]\n",
      "  [16 17 18]]]\n"
     ]
    }
   ],
   "source": [
    "print(z)"
   ]
  },
  {
   "cell_type": "code",
   "execution_count": 29,
   "id": "738a22ec-5f71-4d97-977b-339b187e7f57",
   "metadata": {},
   "outputs": [
    {
     "data": {
      "text/plain": [
       "array([[11, 12]])"
      ]
     },
     "execution_count": 29,
     "metadata": {},
     "output_type": "execute_result"
    }
   ],
   "source": [
    "#Start slicing from 2nd row,2nd col of the 2nd layer\n",
    "z[1,1:,1:]"
   ]
  },
  {
   "cell_type": "code",
   "execution_count": null,
   "id": "7b0dde5e-9773-43ee-9e73-d7eb97263931",
   "metadata": {},
   "outputs": [],
   "source": []
  }
 ],
 "metadata": {
  "kernelspec": {
   "display_name": "Python 3 (ipykernel)",
   "language": "python",
   "name": "python3"
  },
  "language_info": {
   "codemirror_mode": {
    "name": "ipython",
    "version": 3
   },
   "file_extension": ".py",
   "mimetype": "text/x-python",
   "name": "python",
   "nbconvert_exporter": "python",
   "pygments_lexer": "ipython3",
   "version": "3.10.18"
  }
 },
 "nbformat": 4,
 "nbformat_minor": 5
}
